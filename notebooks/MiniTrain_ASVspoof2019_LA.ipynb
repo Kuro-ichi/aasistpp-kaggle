{
 "cells": [
  {
   "cell_type": "markdown",
   "id": "13915292",
   "metadata": {},
   "source": [
    "# Mini-train AASIST++ (ASVspoof2019 LA)\n",
    "Run end-to-end on Kaggle."
   ]
  },
  {
   "cell_type": "code",
   "execution_count": null,
   "id": "dd0d58db",
   "metadata": {},
   "outputs": [],
   "source": [
    "\n",
    "# If running on Kaggle, the project folder should be in /kaggle/working\n",
    "!python --version\n",
    "import sys, os, torch\n",
    "print(\"CUDA:\", torch.cuda.is_available())\n"
   ]
  },
  {
   "cell_type": "code",
   "execution_count": null,
   "id": "121641ef",
   "metadata": {},
   "outputs": [],
   "source": [
    "\n",
    "# Train on a mini subset (change --mini_n/--epochs to adjust)\n",
    "!python scripts/train_mini.py --config configs/kaggle_la.yaml --mini_n 80 --epochs 3 --out_dir outputs\n"
   ]
  },
  {
   "cell_type": "code",
   "execution_count": null,
   "id": "96d111c3",
   "metadata": {},
   "outputs": [],
   "source": [
    "\n",
    "# List outputs\n",
    "import os, glob, json, numpy as np, pandas as pd\n",
    "from pathlib import Path\n",
    "print(\"\\n\".join(sorted(glob.glob('outputs/**/*', recursive=True))))\n",
    "# Show history\n",
    "print(json.load(open('outputs/history.json'))[-1])\n"
   ]
  }
 ],
 "metadata": {},
 "nbformat": 4,
 "nbformat_minor": 5
}
